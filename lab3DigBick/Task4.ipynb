{
 "cells": [
  {
   "cell_type": "markdown",
   "metadata": {
    "id": "09ehUJkD03Qw"
   },
   "source": [
    "# Assignment 2, task 3\n",
    "**Xijia Liu, Umeå University**"
   ]
  },
  {
   "cell_type": "markdown",
   "metadata": {
    "id": "sJQEGE_AKW8D"
   },
   "source": [
    "## Task 3: The soul of deep learning, gradient\n",
    "\n",
    "**Background**: deep learning has obtained great success, however, it still has many issues that are unclear. Proper optimization methods to solve the non-convex problem in deep learning is still an open question. In fact, we are empirically using some brute force methods to find the optimal parameter estimation in almost all deep learning applications. In those brute force methods, gradient and its calculation play a key role and therefore it is the soul of deep learning.\n",
    "\n",
    "**Task description**: in this task, we investigate the inner working mechanism of Tensorflow. A BIG remark first. Different from the previous task, We will try to get rid of the bondage of Keras, bypass the \"model compile -> model training\" routine, and use the gradient calculation function of Tensorflow to implement the gradient descent algorithm through our own code.\n",
    "\n",
    "There will be 3 subtasks. First, we learn how to calculate the gradient in Tensorflow. Second, implement the Gradient descent algorithm to a simple numerical problem. Third, apply the Gradient descent algorithm to learn a simple linear regression model. "
   ]
  },
  {
   "cell_type": "markdown",
   "metadata": {
    "id": "J6eOsNSOovMe"
   },
   "source": [
    "###Task 3.1 Understand gradient and its calculation in TF"
   ]
  },
  {
   "cell_type": "markdown",
   "metadata": {
    "id": "jvArLR4rPBE7"
   },
   "source": [
    "I am from Umeå and skiing is one of our daily basic survival skills. I learned downhill ski through the theory of gradient. So, let's understand gradient by the following gif pitcure.\n",
    "\n",
    "![picture](https://j.gifs.com/y72Q7Y.gif)\n",
    "\n",
    "1. Gradient is a generalization of derivative for a scalar-valued multivariable function.\n",
    "2. Consider $z = f(x, y)$, gradient (vector) of function $z$ is a 2-dim vector of partial derivatives of each varaible. \n",
    "3. $ \\nabla f = (\\frac{\\partial f}{\\partial x}, \\frac{\\partial f}{\\partial y})^{\\top}$\n",
    "4. The opposite direction of a gradient vector points to the direction of steepest descent. \n",
    "\n",
    "Next, we learn how to evaluate the gradient vector of a multivariable function at certain point. Suppose we want to use tensorflow to calculate the derivative of function \n",
    "$$\n",
    "  f(x) = 2x^2 + 3x + 1\n",
    "$$ \n",
    "at $x_0 = 3$. The derivative can be easily calculated as $f'(x_0) = 4x_0+3 = 15$. How does TF handle this trivial example? Let's see the following code."
   ]
  },
  {
   "cell_type": "code",
   "execution_count": 1,
   "metadata": {
    "executionInfo": {
     "elapsed": 5345,
     "status": "ok",
     "timestamp": 1669457797285,
     "user": {
      "displayName": "Xijia Liu",
      "userId": "07624774260162876472"
     },
     "user_tz": -60
    },
    "id": "Nbxw57s-QgPL"
   },
   "outputs": [],
   "source": [
    "import tensorflow as tf #import TF moudle"
   ]
  },
  {
   "cell_type": "code",
   "execution_count": 2,
   "metadata": {
    "id": "0gW-KdlRP4bm"
   },
   "outputs": [
    {
     "name": "stdout",
     "output_type": "stream",
     "text": [
      "the derivative is  15.0\n"
     ]
    }
   ],
   "source": [
    "x_0 = 3.\n",
    "x = tf.Variable(x_0)\n",
    "with tf.GradientTape() as tape:\n",
    "  f = 2*x**2+3*x+1\n",
    "grad = tape.gradient(f, x)\n",
    "print('the derivative is ', float(grad))"
   ]
  },
  {
   "cell_type": "markdown",
   "metadata": {
    "id": "VQFV6ydC2NNy"
   },
   "source": [
    "The first important thing for evaluating gradient in TensforFlow is define a TensorFlow variable, for example, line 2. Then we can apply function 'GradientTape()' to evaluate the gradient for a function. Here, we can sue Python 'with-as' syntax to define the function and evaluate its gradient efficiently.  "
   ]
  },
  {
   "cell_type": "markdown",
   "metadata": {
    "id": "EWqw5YLRPI1i"
   },
   "source": [
    "**Now, it is your turn.** Can you write a few of lines code to calculate the gradient vector of a function of three variables? \n",
    "$$f(x,y,z) = x^3 + 3y^3 + 2z^3 + 2x^2y + 3xyz $$The gradient is $$ \\nabla f = \\begin{pmatrix}\n",
    "3x^2+4xy+3yz\\\\ \n",
    "9y^2+2x^2+3xz\\\\ \n",
    "6z^2+3xy\n",
    "\\end{pmatrix} $$\n",
    "Then your task is apply TF's functions to evaluate the gradient at $(x,y,z)^{T} = (2,4,1)^{T}$.\n",
    "\n",
    "**Tips**: you need to define three tensorflow variables and put them in a array '[x,y,z]' when you apply function 'tape.gradient()' to evaluate the gradient. "
   ]
  },
  {
   "cell_type": "code",
   "execution_count": 24,
   "metadata": {
    "id": "gU-pE2SNe9Ee"
   },
   "outputs": [
    {
     "name": "stdout",
     "output_type": "stream",
     "text": [
      "[56.0,158.0,30.0]\n"
     ]
    }
   ],
   "source": [
    "x1 = tf.Variable(2.)\n",
    "y = tf.Variable(4.)\n",
    "z = tf.Variable(1.)\n",
    "\n",
    "x = [x1,y,z]\n",
    "\n",
    "with tf.GradientTape() as tape:\n",
    "  f = x[0]**3 + 3*x[1]**3 + 2*x[2]**3 + 2*x[0]**2*x[1] + 3*x[0]*x[1]*x[2]\n",
    "\n",
    "grad = tape.gradient(f,x)\n",
    "\n",
    "\n",
    "print(f'[{float(grad[0])},{float(grad[1])},{float(grad[2])}]')"
   ]
  },
  {
   "cell_type": "markdown",
   "metadata": {
    "id": "TvceSjY9VVi5"
   },
   "source": [
    "### Task 3.2 Gradient descent algorithm"
   ]
  },
  {
   "cell_type": "markdown",
   "metadata": {
    "id": "xl7_hgWNVdRJ"
   },
   "source": [
    "Since the negative gradient vector points to the direction of the steepest \n",
    "Suppose we want to minimize an objective function $f(\\textbf{w})$. Since the negative gradient vector, $\\nabla f(\\textbf{w})$, points to the direction of the steepest descent of the objective function, it provides us an idea for finding the minimum value of an objective function. We start from an initial value of the optimizing variable and evaluate the gradient vector at this point, then update the optimizing variable toward the negative gradient direction with a small step, i.e. \n",
    "$$\n",
    "\\textbf{w}_{t+1} = \\textbf{w}_{t} - \\alpha \\nabla f(\\textbf{w}_t)\n",
    "$$ \n",
    "Repeat this procedure many times, then we can find the minimiaer. A one dimensional and a two dimensional example are displayed below.\n",
    "\n",
    "![picture](https://hackernoon.com/hn-images/1*ZmzSnV6xluGa42wtU7KYVA.gif)\n",
    "![picture](https://upload.wikimedia.org/wikipedia/commons/a/a3/Gradient_descent.gif)"
   ]
  },
  {
   "cell_type": "markdown",
   "metadata": {
    "id": "NpL3ukYTWLNk"
   },
   "source": [
    "**Example**: suppose we want to find the minimum value of function $f(x) = x^2-5x-1$ and the minimizer. We can implement the Gradient descent alogrithm as the following code "
   ]
  },
  {
   "cell_type": "code",
   "execution_count": 41,
   "metadata": {
    "colab": {
     "base_uri": "https://localhost:8080/"
    },
    "executionInfo": {
     "elapsed": 4,
     "status": "ok",
     "timestamp": 1669465064957,
     "user": {
      "displayName": "Xijia Liu",
      "userId": "07624774260162876472"
     },
     "user_tz": -60
    },
    "id": "tPQIRBvSZoFT",
    "outputId": "ac2f0d93-c995-4d63-d79a-6ae4c3651346"
   },
   "outputs": [
    {
     "name": "stdout",
     "output_type": "stream",
     "text": [
      "2.4969050884246826\n"
     ]
    }
   ],
   "source": [
    "lr = 0.1\n",
    "x = tf.Variable(0, name=\"variable\", dtype=tf.float32)\n",
    "for i in range (30):\n",
    "  with tf.GradientTape() as tape:\n",
    "    f = x**2-5*x-1\n",
    "  grads = tape.gradient(f, x)\n",
    "  x.assign_sub(lr*grads)\n",
    "print(float(x))"
   ]
  },
  {
   "cell_type": "markdown",
   "metadata": {
    "id": "VIjUbxpEfO8S"
   },
   "source": [
    "**Remarks**: \n",
    "1. To verify the results, we can find the minimizer by calculating the partial derivative and find the stationary point\n",
    "$$\n",
    "  f'(x) = 2x-5 = 0\n",
    "$$\n",
    "The minimizer is $2.5$\n",
    "2. In the code, line 6, it is the way to update a variable in TensorFlow. Method '.assign_sub' means update 'x' by substract it by 'lr*grads'. You may guess how to update 'x' if we set 'lr = -0.1'\n",
    "3. You also can play this code with different learning rate and summarize the effects of learning rate."
   ]
  },
  {
   "cell_type": "markdown",
   "metadata": {
    "id": "wldN85tcZ0UZ"
   },
   "source": [
    "**Now, it is your turn.** In this subtask, you need to write a program to find the minimizer of a bivariable objective function \n",
    "  $$\n",
    "    f(x,y) = (x-1)^2+0.5(y-3)^2\n",
    "  $$\n",
    "**Tips**: \n",
    "1. You can use a while loop with an approximation threshold value, or just simply use a for loop, to find minimizer.\n",
    "2. The initial value can be set as $(x,y)^{\\top} = (0,0)^{\\top}$ and you can choose a proper learning rate."
   ]
  },
  {
   "cell_type": "code",
   "execution_count": null,
   "metadata": {
    "id": "tAV6O64_kiqj"
   },
   "outputs": [],
   "source": [
    "# solutions"
   ]
  },
  {
   "cell_type": "markdown",
   "metadata": {
    "id": "uRn9T9HjWMzT"
   },
   "source": [
    "###Task 3.3 Estimate regression coefficients by Gradient Descent algorithm "
   ]
  },
  {
   "cell_type": "markdown",
   "metadata": {
    "id": "ORzzZjVwsOdv"
   },
   "source": [
    "In this subtask, we apply Gradient descent algorithm to find the least sqaure estimation of regression coefficients. First, let's import some useful tools to our working space."
   ]
  },
  {
   "cell_type": "code",
   "execution_count": 36,
   "metadata": {
    "executionInfo": {
     "elapsed": 217,
     "status": "ok",
     "timestamp": 1669461501310,
     "user": {
      "displayName": "Xijia Liu",
      "userId": "07624774260162876472"
     },
     "user_tz": -60
    },
    "id": "ihXUbMMPqNq5"
   },
   "outputs": [],
   "source": [
    "from matplotlib import pyplot as plt\n",
    "from tensorflow.keras import layers, Sequential, optimizers"
   ]
  },
  {
   "cell_type": "markdown",
   "metadata": {
    "id": "Px_ZutBvsx_z"
   },
   "source": [
    "We prepare the data by the following code. "
   ]
  },
  {
   "cell_type": "code",
   "execution_count": null,
   "metadata": {
    "id": "MV1QLKaEoKd3"
   },
   "outputs": [],
   "source": [
    "n = 30\n",
    "b0 = 2\n",
    "b1 = 2.5\n",
    "x = tf.random.normal([n,1])\n",
    "error = tf.random.normal([n,1], 0, 0.1)\n",
    "y = b0 + b1*x + error\n",
    "plt.scatter(x.numpy(), y.numpy(), marker='o')"
   ]
  },
  {
   "cell_type": "markdown",
   "metadata": {
    "id": "ECWWx2vws3zs"
   },
   "source": [
    "The problem is estimating the regression coefficients from the simulated data using Gradient Descent algorithm. The first thing is write down the objective function and it is the mean square loss\n",
    "  $$\n",
    "    \\frac{1}{n}\\sum_{i=1}^n(y_i - f(x_i))^2\n",
    "  $$\n",
    "where $f(x_i)$ is the regression model. The model we will apply Keras 'Sequential' function, see the codes below. We can see that simple regression model is a special case of a regression Artificial neural network.\n",
    "\n",
    "**The first task of Task 3.3:**\n",
    "\n",
    "In the follwing chunk, you need to write proper codes to complete the defintion of 'model'."
   ]
  },
  {
   "cell_type": "code",
   "execution_count": null,
   "metadata": {
    "id": "_BTIBX9poeCh"
   },
   "outputs": [],
   "source": [
    "model = Sequential([\n",
    "  # you need to write the code to complete the model\n",
    "])\n",
    "model.summary()"
   ]
  },
  {
   "cell_type": "markdown",
   "metadata": {
    "id": "x2KMpAbVxJV8"
   },
   "source": [
    "**The second task of Task 3.3**: \n",
    "\n",
    "Now we are ready to implement the Gradient descent algorithm to estimate the regression coefficients. As you can see in the follwing chunck, the code is almost there, but you need to write the line 5 by yourself. \n",
    "\n",
    "**Tips**: In TensorFlow, for the square and mean operator, you can call function 'tf.square' and 'tf.reduce_mean'. "
   ]
  },
  {
   "cell_type": "code",
   "execution_count": null,
   "metadata": {
    "id": "rQzk0ia4ogSy"
   },
   "outputs": [],
   "source": [
    "lr = 0.1\n",
    "opt = optimizers.SGD(learning_rate=lr)\n",
    "for i in range(30):\n",
    "  with tf.GradientTape() as tape:\n",
    "    # you need to write the code. \n",
    "  grads = tape.gradient(loss, model.trainable_variables)\n",
    "  opt.apply_gradients(zip(grads, model.trainable_variables))\n",
    "  print(loss)\n",
    "print('b0:', model.layers[0].bias.numpy())\n",
    "print('b1:', model.layers[0].kernel.numpy())"
   ]
  },
  {
   "cell_type": "markdown",
   "metadata": {
    "id": "8ZJkSjc2qWeN"
   },
   "source": [
    "**The third task of Task 3.3**:\n",
    "\n",
    "As you can see that we use build-in optimization solver in TensorFlow to implement the Gradient Descent algorithm in line 8. Nest, you need to write your own code to replace the 8th line.\n",
    "\n",
    "**Tips**: \n",
    "1. In TensorFlow, the model parameters are stored in different layers. In this case, the slope coefficient is stored in 'model.layers[0].kernel' and the intercept term can be found in 'model.layers[0].bias'. As you can see, in TensorFlow, the weights for each neuron is called 'kernel'. \n",
    "2. Both 'model.layers[0].kernel' and 'model.layers[0].bias' are TensorFlow variables and they have method '.assign_sub' as the example in Task 4.2."
   ]
  }
 ],
 "metadata": {
  "colab": {
   "authorship_tag": "ABX9TyN/aV/PN6wAM8IZ296g9Amr",
   "collapsed_sections": [
    "jvArLR4rPBE7"
   ],
   "provenance": [],
   "toc_visible": true
  },
  "kernelspec": {
   "display_name": "Python 3",
   "language": "python",
   "name": "python3"
  },
  "language_info": {
   "codemirror_mode": {
    "name": "ipython",
    "version": 3
   },
   "file_extension": ".py",
   "mimetype": "text/x-python",
   "name": "python",
   "nbconvert_exporter": "python",
   "pygments_lexer": "ipython3",
   "version": "3.8.8"
  }
 },
 "nbformat": 4,
 "nbformat_minor": 1
}
